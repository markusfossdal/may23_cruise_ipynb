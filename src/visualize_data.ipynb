{
 "cells": [
  {
   "cell_type": "markdown",
   "id": "8cfa8cc7-a3f6-4362-8f58-cfc9c1f343ef",
   "metadata": {},
   "source": [
    "# Visualize cruise data"
   ]
  },
  {
   "cell_type": "code",
   "execution_count": 1,
   "id": "4fe5433b-e5a9-4b3d-a29f-8688e59ae9b1",
   "metadata": {},
   "outputs": [
    {
     "name": "stderr",
     "output_type": "stream",
     "text": [
      "Matplotlib is building the font cache; this may take a moment.\n",
      "bash: line 1: /code/src/install/local_setup.bash: No such file or directory\n"
     ]
    }
   ],
   "source": [
    "import os\n",
    "\n",
    "import numpy as np\n",
    "import pandas as pd\n",
    "import matplotlib.pyplot as plt\n",
    "\n",
    "import rclpy\n",
    "from rosbags.rosbag2 import Reader\n",
    "from rosbags.serde import deserialize_cdr\n",
    "\n",
    "import subprocess\n",
    "subprocess.call([\"bash\", \"-c\", \"source /code/src/install/local_setup.bash\"])\n",
    "\n",
    "import sys\n",
    "sys.path.append(\"/code/src/install/apos_interfaces/local/lib/python3.10/dist-packages\")\n",
    "\n",
    "\n",
    "#from apos_interfaces.msg import Vessel\n",
    "\n",
    "from pathlib import Path\n",
    "\n",
    "from rosbags.highlevel import AnyReader\n"
   ]
  },
  {
   "cell_type": "code",
   "execution_count": 2,
   "id": "4210fb7c-ed5b-43be-988e-ed166d9291ea",
   "metadata": {},
   "outputs": [
    {
     "ename": "ModuleNotFoundError",
     "evalue": "No module named 'rosbag_api'",
     "output_type": "error",
     "traceback": [
      "\u001b[0;31m---------------------------------------------------------------------------\u001b[0m",
      "\u001b[0;31mModuleNotFoundError\u001b[0m                       Traceback (most recent call last)",
      "Cell \u001b[0;32mIn[2], line 1\u001b[0m\n\u001b[0;32m----> 1\u001b[0m \u001b[38;5;28;01mimport\u001b[39;00m \u001b[38;5;21;01mrosbag_api\u001b[39;00m \u001b[38;5;28;01mas\u001b[39;00m \u001b[38;5;21;01mbag\u001b[39;00m\n",
      "\u001b[0;31mModuleNotFoundError\u001b[0m: No module named 'rosbag_api'"
     ]
    }
   ],
   "source": [
    "import rosbag_api as bag"
   ]
  },
  {
   "cell_type": "markdown",
   "id": "8c2c0ffd-ab99-4421-8241-5984f9f0a9c4",
   "metadata": {},
   "source": [
    "## Read Bag"
   ]
  },
  {
   "cell_type": "code",
   "execution_count": null,
   "id": "1036eef9-4311-456e-8292-365387b93ee2",
   "metadata": {},
   "outputs": [],
   "source": []
  },
  {
   "cell_type": "code",
   "execution_count": null,
   "id": "e3711c5b-e292-4984-a32e-276d86635325",
   "metadata": {},
   "outputs": [],
   "source": [
    "path = \"/code/bag/very_good_docking_seq/\""
   ]
  },
  {
   "cell_type": "code",
   "execution_count": null,
   "id": "cacfc5e8-b447-4b97-b46f-3ba130743237",
   "metadata": {},
   "outputs": [],
   "source": []
  },
  {
   "cell_type": "code",
   "execution_count": 7,
   "id": "4ee8e5fd-b99f-4908-a200-6927625c5d63",
   "metadata": {},
   "outputs": [
    {
     "name": "stdout",
     "output_type": "stream",
     "text": [
      "/usr/bin/python3\n",
      "3.10.12 (main, Jun 11 2023, 05:26:28) [GCC 11.4.0]\n",
      "sys.version_info(major=3, minor=10, micro=12, releaselevel='final', serial=0)\n"
     ]
    }
   ],
   "source": [
    "import sys\n",
    "print(sys.executable)\n",
    "print(sys.version)\n",
    "print(sys.version_info)\n",
    "\n",
    "import os\n",
    "from pathlib import Path\n",
    "\n",
    "#from common import get_rosbag_options\n",
    "from common import *\n",
    "\n",
    "import pytest\n",
    "\n",
    "from rcl_interfaces.msg import Log\n",
    "from rclpy.serialization import deserialize_message\n",
    "import rosbag2_py\n",
    "#from rosbag2_test_common import TESTED_STORAGE_IDS\n",
    "from rosidl_runtime_py.utilities import get_message\n",
    "from std_msgs.msg import String\n",
    "\n",
    "\n"
   ]
  },
  {
   "cell_type": "code",
   "execution_count": 9,
   "id": "8e56cdea-0ab5-46da-9a45-202102746e2d",
   "metadata": {},
   "outputs": [
    {
     "ename": "TypeError",
     "evalue": "open(): incompatible function arguments. The following argument types are supported:\n    1. (self: rosbag2_py._reader.SequentialReader, arg0: rosbag2_storage::StorageOptions, arg1: rosbag2_cpp::ConverterOptions) -> None\n\nInvoked with: <rosbag2_py._reader.SequentialReader object at 0x40633c9130>",
     "output_type": "error",
     "traceback": [
      "\u001b[0;31m---------------------------------------------------------------------------\u001b[0m",
      "\u001b[0;31mTypeError\u001b[0m                                 Traceback (most recent call last)",
      "Cell \u001b[0;32mIn[9], line 5\u001b[0m\n\u001b[1;32m      3\u001b[0m reader \u001b[38;5;241m=\u001b[39m rosbag2_py\u001b[38;5;241m.\u001b[39mSequentialReader()\n\u001b[1;32m      4\u001b[0m \u001b[38;5;66;03m#reader.open(storage_options, converter_options)\u001b[39;00m\n\u001b[0;32m----> 5\u001b[0m \u001b[43mreader\u001b[49m\u001b[38;5;241;43m.\u001b[39;49m\u001b[43mopen\u001b[49m\u001b[43m(\u001b[49m\u001b[43m)\u001b[49m\n\u001b[1;32m      7\u001b[0m topic_types \u001b[38;5;241m=\u001b[39m reader\u001b[38;5;241m.\u001b[39mget_all_topics_and_types()\n\u001b[1;32m      9\u001b[0m \u001b[38;5;66;03m# Create a map for quicker lookup\u001b[39;00m\n",
      "\u001b[0;31mTypeError\u001b[0m: open(): incompatible function arguments. The following argument types are supported:\n    1. (self: rosbag2_py._reader.SequentialReader, arg0: rosbag2_storage::StorageOptions, arg1: rosbag2_cpp::ConverterOptions) -> None\n\nInvoked with: <rosbag2_py._reader.SequentialReader object at 0x40633c9130>"
     ]
    }
   ],
   "source": [
    "    bag_path = '/code/bag/very_good_docking_seq/'\n",
    "\n",
    "    reader = rosbag2_py.SequentialReader()\n",
    "    #reader.open(storage_options, converter_options)\n",
    "    reader.open()\n",
    "\n",
    "    topic_types = reader.get_all_topics_and_types()\n",
    "\n",
    "    # Create a map for quicker lookup\n",
    "    type_map = {topic_types[i].name: topic_types[i].type for i in range(len(topic_types))}\n",
    "\n",
    "    # Set filter for topic of string type\n",
    "    storage_filter = rosbag2_py.StorageFilter(topics=['/topic'])\n",
    "    reader.set_filter(storage_filter)\n",
    "\n",
    "    msg_counter = 0\n",
    "\n",
    "    while reader.has_next():\n",
    "        (topic, data, t) = reader.read_next()\n",
    "        msg_type = get_message(type_map[topic])\n",
    "        msg = deserialize_message(data, msg_type)\n",
    "\n",
    "        assert isinstance(msg, String)\n",
    "        assert msg.data == f'Hello, world! {msg_counter}'\n",
    "\n",
    "        msg_counter += 1\n",
    "\n",
    "    # No filter\n",
    "    reader.reset_filter()\n",
    "\n",
    "    reader = rosbag2_py.SequentialReader()\n",
    "    reader.open(storage_options, converter_options)\n",
    "\n",
    "    msg_counter = 0\n",
    "\n",
    "    while reader.has_next():\n",
    "        (topic, data, t) = reader.read_next()\n",
    "        msg_type = get_message(type_map[topic])\n",
    "        msg = deserialize_message(data, msg_type)\n",
    "\n",
    "        assert isinstance(msg, Log) or isinstance(msg, String)\n",
    "\n",
    "        if isinstance(msg, String):\n",
    "            assert msg.data == f'Hello, world! {msg_counter}'\n",
    "            msg_counter += 1\n",
    "\n",
    "test_sequential_reader(1)\n",
    "\n",
    "print('done')"
   ]
  }
 ],
 "metadata": {
  "kernelspec": {
   "display_name": "Python 3 (ipykernel)",
   "language": "python",
   "name": "python3"
  },
  "language_info": {
   "codemirror_mode": {
    "name": "ipython",
    "version": 3
   },
   "file_extension": ".py",
   "mimetype": "text/x-python",
   "name": "python",
   "nbconvert_exporter": "python",
   "pygments_lexer": "ipython3",
   "version": "3.10.12"
  }
 },
 "nbformat": 4,
 "nbformat_minor": 5
}
