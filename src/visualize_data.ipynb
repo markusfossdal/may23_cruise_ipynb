{
 "cells": [
  {
   "cell_type": "markdown",
   "id": "8cfa8cc7-a3f6-4362-8f58-cfc9c1f343ef",
   "metadata": {},
   "source": [
    "# Visualize cruise data"
   ]
  },
  {
   "cell_type": "code",
   "execution_count": 10,
   "id": "4fe5433b-e5a9-4b3d-a29f-8688e59ae9b1",
   "metadata": {},
   "outputs": [],
   "source": [
    "import numpy as np\n",
    "import pandas as pd\n",
    "import matplotlib.pyplot as plt\n",
    "from bagpy import bagreader"
   ]
  },
  {
   "cell_type": "markdown",
   "id": "8c2c0ffd-ab99-4421-8241-5984f9f0a9c4",
   "metadata": {},
   "source": [
    "## Read Bag"
   ]
  },
  {
   "cell_type": "code",
   "execution_count": 12,
   "id": "e3711c5b-e292-4984-a32e-276d86635325",
   "metadata": {},
   "outputs": [
    {
     "ename": "FileNotFoundError",
     "evalue": "[Errno 2] No such file or directory: '/code/src/bag/test.bag'",
     "output_type": "error",
     "traceback": [
      "\u001b[0;31m---------------------------------------------------------------------------\u001b[0m",
      "\u001b[0;31mFileNotFoundError\u001b[0m                         Traceback (most recent call last)",
      "Cell \u001b[0;32mIn[12], line 7\u001b[0m\n\u001b[1;32m      4\u001b[0m path \u001b[38;5;241m=\u001b[39m folder\u001b[38;5;241m+\u001b[39mfile\n\u001b[1;32m      6\u001b[0m \u001b[38;5;66;03m#Read bag\u001b[39;00m\n\u001b[0;32m----> 7\u001b[0m bag \u001b[38;5;241m=\u001b[39m \u001b[43mbagreader\u001b[49m\u001b[43m(\u001b[49m\u001b[43mpath\u001b[49m\u001b[43m)\u001b[49m\n\u001b[1;32m      9\u001b[0m \u001b[38;5;66;03m#Print topics\u001b[39;00m\n\u001b[1;32m     10\u001b[0m topics \u001b[38;5;241m=\u001b[39m bag\u001b[38;5;241m.\u001b[39mtopic_table\n",
      "File \u001b[0;32m/usr/local/lib/python3.10/dist-packages/bagpy/bagreader.py:206\u001b[0m, in \u001b[0;36mbagreader.__init__\u001b[0;34m(self, bagfile, delimiter, verbose, tmp)\u001b[0m\n\u001b[1;32m    203\u001b[0m     \u001b[38;5;28mself\u001b[39m\u001b[38;5;241m.\u001b[39mfilename \u001b[38;5;241m=\u001b[39m bagfile\n\u001b[1;32m    204\u001b[0m     \u001b[38;5;28mself\u001b[39m\u001b[38;5;241m.\u001b[39mdir \u001b[38;5;241m=\u001b[39m \u001b[38;5;124m'\u001b[39m\u001b[38;5;124m./\u001b[39m\u001b[38;5;124m'\u001b[39m\n\u001b[0;32m--> 206\u001b[0m \u001b[38;5;28mself\u001b[39m\u001b[38;5;241m.\u001b[39mreader \u001b[38;5;241m=\u001b[39m \u001b[43mrosbag\u001b[49m\u001b[38;5;241;43m.\u001b[39;49m\u001b[43mBag\u001b[49m\u001b[43m(\u001b[49m\u001b[38;5;28;43mself\u001b[39;49m\u001b[38;5;241;43m.\u001b[39;49m\u001b[43mbagfile\u001b[49m\u001b[43m)\u001b[49m\n\u001b[1;32m    208\u001b[0m info \u001b[38;5;241m=\u001b[39m \u001b[38;5;28mself\u001b[39m\u001b[38;5;241m.\u001b[39mreader\u001b[38;5;241m.\u001b[39mget_type_and_topic_info() \n\u001b[1;32m    209\u001b[0m \u001b[38;5;28mself\u001b[39m\u001b[38;5;241m.\u001b[39mtopic_tuple \u001b[38;5;241m=\u001b[39m info\u001b[38;5;241m.\u001b[39mtopics\u001b[38;5;241m.\u001b[39mvalues()\n",
      "File \u001b[0;32m/usr/local/lib/python3.10/dist-packages/rosbag/bag.py:467\u001b[0m, in \u001b[0;36mBag.__init__\u001b[0;34m(self, f, mode, compression, chunk_threshold, allow_unindexed, options, skip_index)\u001b[0m\n\u001b[1;32m    463\u001b[0m \u001b[38;5;28mself\u001b[39m\u001b[38;5;241m.\u001b[39m_curr_compression \u001b[38;5;241m=\u001b[39m Compression\u001b[38;5;241m.\u001b[39mNONE\n\u001b[1;32m    465\u001b[0m \u001b[38;5;28mself\u001b[39m\u001b[38;5;241m.\u001b[39m_encryptor \u001b[38;5;241m=\u001b[39m _ROSBagNoEncryptor()\n\u001b[0;32m--> 467\u001b[0m \u001b[38;5;28;43mself\u001b[39;49m\u001b[38;5;241;43m.\u001b[39;49m\u001b[43m_open\u001b[49m\u001b[43m(\u001b[49m\u001b[43mf\u001b[49m\u001b[43m,\u001b[49m\u001b[43m \u001b[49m\u001b[43mmode\u001b[49m\u001b[43m,\u001b[49m\u001b[43m \u001b[49m\u001b[43mallow_unindexed\u001b[49m\u001b[43m)\u001b[49m\n\u001b[1;32m    469\u001b[0m \u001b[38;5;28mself\u001b[39m\u001b[38;5;241m.\u001b[39m_output_file \u001b[38;5;241m=\u001b[39m \u001b[38;5;28mself\u001b[39m\u001b[38;5;241m.\u001b[39m_file\n",
      "File \u001b[0;32m/usr/local/lib/python3.10/dist-packages/rosbag/bag.py:1427\u001b[0m, in \u001b[0;36mBag._open\u001b[0;34m(self, f, mode, allow_unindexed)\u001b[0m\n\u001b[1;32m   1424\u001b[0m     \u001b[38;5;28;01mraise\u001b[39;00m \u001b[38;5;167;01mValueError\u001b[39;00m(\u001b[38;5;124m'\u001b[39m\u001b[38;5;124mfilename (or stream) is invalid\u001b[39m\u001b[38;5;124m'\u001b[39m)\n\u001b[1;32m   1426\u001b[0m \u001b[38;5;28;01mtry\u001b[39;00m:\n\u001b[0;32m-> 1427\u001b[0m     \u001b[38;5;28;01mif\u001b[39;00m   mode \u001b[38;5;241m==\u001b[39m \u001b[38;5;124m'\u001b[39m\u001b[38;5;124mr\u001b[39m\u001b[38;5;124m'\u001b[39m: \u001b[38;5;28;43mself\u001b[39;49m\u001b[38;5;241;43m.\u001b[39;49m\u001b[43m_open_read\u001b[49m\u001b[43m(\u001b[49m\u001b[43mf\u001b[49m\u001b[43m,\u001b[49m\u001b[43m \u001b[49m\u001b[43mallow_unindexed\u001b[49m\u001b[43m)\u001b[49m\n\u001b[1;32m   1428\u001b[0m     \u001b[38;5;28;01melif\u001b[39;00m mode \u001b[38;5;241m==\u001b[39m \u001b[38;5;124m'\u001b[39m\u001b[38;5;124mw\u001b[39m\u001b[38;5;124m'\u001b[39m: \u001b[38;5;28mself\u001b[39m\u001b[38;5;241m.\u001b[39m_open_write(f)\n\u001b[1;32m   1429\u001b[0m     \u001b[38;5;28;01melif\u001b[39;00m mode \u001b[38;5;241m==\u001b[39m \u001b[38;5;124m'\u001b[39m\u001b[38;5;124ma\u001b[39m\u001b[38;5;124m'\u001b[39m: \u001b[38;5;28mself\u001b[39m\u001b[38;5;241m.\u001b[39m_open_append(f, allow_unindexed)\n",
      "File \u001b[0;32m/usr/local/lib/python3.10/dist-packages/rosbag/bag.py:1449\u001b[0m, in \u001b[0;36mBag._open_read\u001b[0;34m(self, f, allow_unindexed)\u001b[0m\n\u001b[1;32m   1447\u001b[0m     \u001b[38;5;28mself\u001b[39m\u001b[38;5;241m.\u001b[39m_filename \u001b[38;5;241m=\u001b[39m \u001b[38;5;28;01mNone\u001b[39;00m\n\u001b[1;32m   1448\u001b[0m \u001b[38;5;28;01melse\u001b[39;00m:\n\u001b[0;32m-> 1449\u001b[0m     \u001b[38;5;28mself\u001b[39m\u001b[38;5;241m.\u001b[39m_file     \u001b[38;5;241m=\u001b[39m \u001b[38;5;28;43mopen\u001b[39;49m\u001b[43m(\u001b[49m\u001b[43mf\u001b[49m\u001b[43m,\u001b[49m\u001b[43m \u001b[49m\u001b[38;5;124;43m'\u001b[39;49m\u001b[38;5;124;43mrb\u001b[39;49m\u001b[38;5;124;43m'\u001b[39;49m\u001b[43m)\u001b[49m\n\u001b[1;32m   1450\u001b[0m     \u001b[38;5;28mself\u001b[39m\u001b[38;5;241m.\u001b[39m_filename \u001b[38;5;241m=\u001b[39m f        \n\u001b[1;32m   1452\u001b[0m \u001b[38;5;28mself\u001b[39m\u001b[38;5;241m.\u001b[39m_mode \u001b[38;5;241m=\u001b[39m \u001b[38;5;124m'\u001b[39m\u001b[38;5;124mr\u001b[39m\u001b[38;5;124m'\u001b[39m\n",
      "\u001b[0;31mFileNotFoundError\u001b[0m: [Errno 2] No such file or directory: '/code/src/bag/test.bag'"
     ]
    }
   ],
   "source": [
    "#Path\n",
    "folder = \"/code/src/bag/\"\n",
    "file = \"test.bag\"\n",
    "path = folder+file\n",
    "\n",
    "#Read bag\n",
    "bag = bagreader(path)\n",
    "\n",
    "#Print topics\n",
    "topics = bag.topic_table\n",
    "print(topics)"
   ]
  },
  {
   "cell_type": "code",
   "execution_count": null,
   "id": "cacfc5e8-b447-4b97-b46f-3ba130743237",
   "metadata": {},
   "outputs": [],
   "source": []
  },
  {
   "cell_type": "code",
   "execution_count": null,
   "id": "4ee8e5fd-b99f-4908-a200-6927625c5d63",
   "metadata": {},
   "outputs": [],
   "source": []
  }
 ],
 "metadata": {
  "kernelspec": {
   "display_name": "Python 3 (ipykernel)",
   "language": "python",
   "name": "python3"
  },
  "language_info": {
   "codemirror_mode": {
    "name": "ipython",
    "version": 3
   },
   "file_extension": ".py",
   "mimetype": "text/x-python",
   "name": "python",
   "nbconvert_exporter": "python",
   "pygments_lexer": "ipython3",
   "version": "3.10.12"
  }
 },
 "nbformat": 4,
 "nbformat_minor": 5
}
